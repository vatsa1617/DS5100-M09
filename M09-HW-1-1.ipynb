{
 "cells": [
  {
   "cell_type": "markdown",
   "id": "bbea800c-241d-42b4-a744-ecaffe13959e",
   "metadata": {},
   "source": [
    "# Metadata\n",
    "\n",
    "```yaml\n",
    "Course:  DS 5100\n",
    "Module:  09 Python Packages\n",
    "Topic:   HW Package Booklover\n",
    "Author:  R.C. Alvarado (adapted)\n",
    "Date:    7 July 2023 (revised)\n",
    "```"
   ]
  },
  {
   "cell_type": "markdown",
   "id": "36f46fdd-2405-4dc8-9ea1-33f395e56cc0",
   "metadata": {},
   "source": [
    "# Student Info\n",
    "\n",
    "* Name:  Srivatsa Balasubramanyam\n",
    "* Net UD: mhe3sy\n",
    "* URL of this file in GitHub:https://github.com/vatsa1617/DS5100-mhe3sy/tree/main/lessons/M09/M09-HW-1-1.ipynb"
   ]
  },
  {
   "cell_type": "markdown",
   "id": "375875a8-1503-46eb-8ea1-7e5bf39b5c41",
   "metadata": {},
   "source": [
    "# Instructions\n",
    "\n",
    "In your **private course repo on Rivanna**, use this Jupyter notebook and the data file described to write code that performs the tasks below. \n",
    "\n",
    "Save your notebook in the `M09` directory.\n",
    "\n",
    "Remember to add and commit these files to your repo. \n",
    "\n",
    "Then push your commits to your repo on GitHib.\n",
    "\n",
    "Be sure to fill out the **Student Info** block above.\n",
    "\n",
    "To submit your homework, save your results as a PDF and upload it to GradeScope. More information about how to create the PDF for this assignment are included at the end of this document.\n",
    "\n",
    "**TOTAL POINTS: 8**"
   ]
  },
  {
   "cell_type": "markdown",
   "id": "1baf08dc-35fe-44f1-bc26-7e1130ee993e",
   "metadata": {},
   "source": [
    "# Overview\n",
    "\n",
    "Follow the following recipe we used in class to package the code you wrote for `HW08` -- `booklover.py` and `booklover_test.py`.\n",
    "\n",
    "* Create a new git repo for your package.\n",
    "* Create and edit the required files and directories for your package and move the booklover modules there.\n",
    "* Stage, commit, and push all the files you've created.\n",
    "* Install your package with pip.\n",
    "* Outside of your package dir, write a script to test your method.\n",
    "\n",
    "Put this notebook in your repo. This will allow you to execute bash commands and capture the outpunt directly in the notebook.\n",
    "\n",
    "**TOTAL: 8 POINTS**"
   ]
  },
  {
   "cell_type": "markdown",
   "id": "6e39ba79-49ee-41e8-9e49-23d9d6bac2e0",
   "metadata": {
    "tags": []
   },
   "source": [
    "# Tasks"
   ]
  },
  {
   "cell_type": "markdown",
   "id": "fb11de14",
   "metadata": {},
   "source": [
    "## Task 1\n",
    "\n",
    "(5 points)\n",
    "\n",
    "Show the directory structure of your repo by running this command from the root of your repo:"
   ]
  },
  {
   "cell_type": "code",
   "execution_count": null,
   "id": "7e6c6607",
   "metadata": {},
   "outputs": [],
   "source": [
    "!ls -lR\n",
    "\n",
    "(base) srivatsabalasubramanyam@srivatsas-MBP booklover_package % !ls -lR\n",
    "ls -lR\n",
    "total 8\n",
    "-rw-r--r--  1 srivatsabalasubramanyam  staff    0 Nov  8 22:09 README.md\n",
    "drwxr-xr-x  4 srivatsabalasubramanyam  staff  128 Nov  8 22:15 build\n",
    "-rw-r--r--@ 1 srivatsabalasubramanyam  staff  365 Nov  8 22:10 setup.py\n",
    "drwxr-xr-x  4 srivatsabalasubramanyam  staff  128 Nov  8 22:15 src\n",
    "drwxr-xr-x  2 srivatsabalasubramanyam  staff   64 Nov  8 22:09 tests\n",
    "\n",
    "./build:\n",
    "total 0\n",
    "drwxr-xr-x  2 srivatsabalasubramanyam  staff  64 Nov  8 22:15 bdist.macosx-11.1-arm64\n",
    "drwxr-xr-x  3 srivatsabalasubramanyam  staff  96 Nov  8 22:15 lib\n",
    "\n",
    "./build/bdist.macosx-11.1-arm64:\n",
    "total 0\n",
    "\n",
    "./build/lib:\n",
    "total 0\n",
    "drwxr-xr-x  5 srivatsabalasubramanyam  staff  160 Nov  8 22:15 booklover\n",
    "\n",
    "./build/lib/booklover:\n",
    "total 16\n",
    "-rw-r--r--  1 srivatsabalasubramanyam  staff     0 Nov  8 22:09 __init__.py\n",
    "-rw-r--r--  1 srivatsabalasubramanyam  staff  1321 Oct 25 09:09 booklover.py\n",
    "-rw-r--r--  1 srivatsabalasubramanyam  staff  2172 Oct 25 09:14 booklover_test.py\n",
    "\n",
    "./src:\n",
    "total 0\n",
    "drwxr-xr-x  5 srivatsabalasubramanyam  staff  160 Nov  8 22:13 booklover\n",
    "drwxr-xr-x  6 srivatsabalasubramanyam  staff  192 Nov  8 22:15 booklover.egg-info\n",
    "\n",
    "./src/booklover:\n",
    "total 16\n",
    "-rw-r--r--  1 srivatsabalasubramanyam  staff     0 Nov  8 22:09 __init__.py\n",
    "-rw-r--r--@ 1 srivatsabalasubramanyam  staff  1321 Oct 25 09:09 booklover.py\n",
    "-rw-r--r--@ 1 srivatsabalasubramanyam  staff  2172 Oct 25 09:14 booklover_test.py\n",
    "\n",
    "./src/booklover.egg-info:\n",
    "total 32\n",
    "-rw-r--r--  1 srivatsabalasubramanyam  staff  198 Nov  8 22:15 PKG-INFO\n",
    "-rw-r--r--  1 srivatsabalasubramanyam  staff  251 Nov  8 22:15 SOURCES.txt\n",
    "-rw-r--r--  1 srivatsabalasubramanyam  staff    1 Nov  8 22:15 dependency_links.txt\n",
    "-rw-r--r--  1 srivatsabalasubramanyam  staff   10 Nov  8 22:15 top_level.txt\n",
    "\n",
    "./tests:\n",
    "total 0\n",
    "(base) srivatsabalasubramanyam@srivatsas-MBP booklover_package % \n"
   ]
  },
  {
   "cell_type": "markdown",
   "id": "6b6f288b-05aa-441b-8c73-84b50b3b6844",
   "metadata": {},
   "source": [
    "## Task 2\n",
    "\n",
    "(1 point)\n",
    "\n",
    "Put the URL of your GitHub repo here. Just paste it into a Markdown cell."
   ]
  },
  {
   "cell_type": "markdown",
   "id": "4d09d889-6104-4f20-b31c-2d8a72b17693",
   "metadata": {},
   "source": [
    "URL: https://github.com/vatsa1617/DS5100-M09"
   ]
  },
  {
   "cell_type": "markdown",
   "id": "f989dcd1-b1d2-4eb9-8ef6-8ca2d8495260",
   "metadata": {
    "lines_to_next_cell": 0
   },
   "source": [
    "## Task 3\n",
    "\n",
    "(1 point)\n",
    "\n",
    "Show the results of installing your package.\n",
    "\n",
    "```bash\n",
    "!pip install -e .\n",
    "```"
   ]
  },
  {
   "cell_type": "markdown",
   "id": "d468da9d",
   "metadata": {},
   "source": [
    "base) srivatsabalasubramanyam@srivatsas-MBP booklover_package % !pip install -e .\n",
    "pip install .\n",
    " install -e .\n",
    "Processing /Users/srivatsabalasubramanyam/Desktop/MSDS_UVA/DS 5100 2024-08 Online/M08/booklover_package\n",
    "  Preparing metadata (setup.py) ... done\n",
    "Building wheels for collected packages: booklover\n",
    "  Building wheel for booklover (setup.py) ... done\n",
    "  Created wheel for booklover: filename=booklover-0.1.0-py3-none-any.whl size=2762 sha256=8632e15dc85b2d0ff1777782cf5a0573cc91dcc813a4b6fc08602568a98e29b9\n",
    "  Stored in directory: /private/var/folders/f_/_vvqhbkj6gz1mvw47602ycd80000gn/T/pip-ephem-wheel-cache-8h0_xa64/wheels/6c/64/6e/55030aade5dbbf9307d5095cc1b65c52912a169ac435a882ea\n",
    "Successfully built booklover\n",
    "Installing collected packages: booklover\n",
    "  Attempting uninstall: booklover\n",
    "    Found existing installation: booklover 0.1.0\n",
    "    Uninstalling booklover-0.1.0:\n",
    "      Successfully uninstalled booklover-0.1.0\n",
    "Successfully installed booklover-0.1.0\n",
    "install: illegal option -- e\n",
    "usage: install [-bCcpSsv] [-B suffix] [-f flags] [-g group] [-m mode]\n",
    "               [-o owner] file1 file2\n",
    "       install [-bCcpSsv] [-B suffix] [-f flags] [-g group] [-m mode]\n",
    "               [-o owner] file1 ... fileN directory\n",
    "       install -d [-v] [-g group] [-m mode] [-o owner] directory ...\n",
    "(base) srivatsabalasubramanyam@srivatsas-MBP booklover_package % \n"
   ]
  },
  {
   "cell_type": "markdown",
   "id": "5b1a642e-74f0-43ff-97a3-9ddc7553978e",
   "metadata": {},
   "source": [
    "## Task 4\n",
    "\n",
    "(1 point)\n",
    "\n",
    "Create a file outside your repo to test your package by running it.\n",
    "\n",
    "To do this, import the package into your file and create a BookLover object.\n",
    "\n",
    "Then add a book and then print number books read.\n",
    "\n",
    "Then run the file. \n",
    "\n",
    "Show the output of running the file below, using a command like the following:\n",
    "\n",
    "```bash\n",
    "!python ../book_lover_demo.py\n",
    "```"
   ]
  },
  {
   "cell_type": "code",
   "execution_count": null,
   "id": "5924fca8-6483-4f2b-a33f-6550d1726d6e",
   "metadata": {},
   "outputs": [],
   "source": []
  }
 ],
 "metadata": {
  "jupytext": {
   "cell_metadata_filter": "-all",
   "main_language": "bash",
   "notebook_metadata_filter": "-all"
  },
  "kernelspec": {
   "display_name": "Python 3 (ipykernel)",
   "language": "python",
   "name": "python3"
  },
  "language_info": {
   "codemirror_mode": {
    "name": "ipython",
    "version": 3
   },
   "file_extension": ".py",
   "mimetype": "text/x-python",
   "name": "python",
   "nbconvert_exporter": "python",
   "pygments_lexer": "ipython3",
   "version": "3.11.7"
  },
  "vscode": {
   "interpreter": {
    "hash": "c3b963de08c47c3b6758389c5e0978ad73698a111eb508d4e16b558edb8f4cbf"
   }
  },
  "widgets": {
   "application/vnd.jupyter.widget-state+json": {
    "state": {},
    "version_major": 2,
    "version_minor": 0
   }
  }
 },
 "nbformat": 4,
 "nbformat_minor": 5
}
